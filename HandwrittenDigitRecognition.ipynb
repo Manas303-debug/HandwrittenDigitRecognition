{
 "cells": [
  {
   "cell_type": "code",
   "execution_count": 2,
   "id": "4930670b-fcea-4166-b263-3262f9bbf3cd",
   "metadata": {},
   "outputs": [],
   "source": [
    "#Import relevant Libraries\n",
    "import numpy as np\n",
    "import tensorflow as tf\n",
    "import tensorflow_datasets as tfds"
   ]
  },
  {
   "cell_type": "code",
   "execution_count": 3,
   "id": "c0a68682-fc23-4360-b6ff-1e6b8988df54",
   "metadata": {},
   "outputs": [],
   "source": [
    "#Loading the Dataset\n",
    "mnist_dataset, mnist_info = tfds.load(name='mnist', with_info=True, as_supervised=True)"
   ]
  },
  {
   "cell_type": "code",
   "execution_count": 4,
   "id": "ecde2192-8b2a-487c-a732-188140699b8d",
   "metadata": {},
   "outputs": [],
   "source": [
    "#Once we have loaded the dataset, we can easily extract the training and testing dataset with the built references\n",
    "mnist_train, mnist_test = mnist_dataset['train'], mnist_dataset['test']"
   ]
  },
  {
   "cell_type": "code",
   "execution_count": 5,
   "id": "57cbe108-1159-4a2b-a35e-5f4907b1bf42",
   "metadata": {},
   "outputs": [],
   "source": [
    "#We will take our Validation dataset from the training dataset\n",
    "num_validation_samples = 0.1 * mnist_info.splits['train'].num_examples\n",
    "#Let's cast this number to an integer, as a float may cause an error along the way\n",
    "num_validation_samples = tf.cast(num_validation_samples, tf.int64)\n",
    "\n",
    "#While we are at let's also store the number of test samples in a dedicated variable (instead of using the mnist_info one)\n",
    "num_test_samples = mnist_info.splits['test'].num_examples\n",
    "\n",
    "num_test_samples = tf.cast(num_test_samples, tf.int64)"
   ]
  },
  {
   "cell_type": "code",
   "execution_count": 6,
   "id": "c32c92ca-093b-454f-ba73-9646d971636c",
   "metadata": {},
   "outputs": [],
   "source": [
    "#Let's define a function called: scale, that will take an MNIST image and its label\n",
    "def scale(image, label):\n",
    "    #we make sure the value is a float\n",
    "    image = tf.cast(image, tf.float32)\n",
    "    #since the possible values for the inputs are 0 to 255 (256 different shades of grey)\n",
    "    #if we divide each element by 255, we would get the desired result -> all elements will be between 0 and 1 \n",
    "    image /= 255.\n",
    "\n",
    "    return image, label"
   ]
  },
  {
   "cell_type": "code",
   "execution_count": 7,
   "id": "55efb87b-2af4-498f-8c24-896baeeb72bb",
   "metadata": {},
   "outputs": [],
   "source": [
    "#The method .map() allows us to apply a custom transformation to a given dataset\n",
    "#we have already decided that we will get the validation data from mnist_train, so \n",
    "scaled_train_and_validation_data = mnist_train.map(scale)\n",
    "#Finally, we scale and batch the test data\n",
    "#We scale it so it has the same magnitude as the train and validation\n",
    "test_data = mnist_test.map(scale)"
   ]
  },
  {
   "cell_type": "code",
   "execution_count": 8,
   "id": "941cd2b1-b112-4a0a-a0f7-e802b3534991",
   "metadata": {},
   "outputs": [],
   "source": [
    "# let's also shuffle the data (also, we don't need to shuffle test data)\n",
    "\n",
    "BUFFER_SIZE = 10000\n",
    "\n",
    "#This BUFFER_SIZE parameter is here for cases when we're dealing with enormous datasets\n",
    "#then we can't shuffle the whole dataset in one go because we can't fit it all in memory\n",
    "#so instead TF only stores BUFFER_SIZE samples in memory at a time and shuffles them\n",
    "#if BUFFER_SIZE=1 => no shuffling will actually happen\n",
    "#if BUFFER_SIZE >= num samples => shuffling is uniform\n",
    "#BUFFER_SIZE in between - a computational optimization to approximate uniform shuffling\n",
    "\n",
    "shuffled_train_and_validation_data = scaled_train_and_validation_data.shuffle(BUFFER_SIZE)\n",
    "\n",
    "validation_data = shuffled_train_and_validation_data.take(num_validation_samples)\n",
    "\n",
    "#The train_data is everything else, so we skip as many samples as there are in the validation dataset\n",
    "train_data = shuffled_train_and_validation_data.skip(num_validation_samples)"
   ]
  },
  {
   "cell_type": "code",
   "execution_count": 9,
   "id": "54b981c0-90fe-4d94-8dcb-0f9daea8e998",
   "metadata": {},
   "outputs": [],
   "source": [
    "# determine the batch size\n",
    "BATCH_SIZE = 100\n",
    "\n",
    "# we can also take advantage of the occasion to batch the train data\n",
    "# this would be very helpful when we train, as we would be able to iterate over the different batches\n",
    "train_data = train_data.batch(BATCH_SIZE)\n",
    "\n",
    "validation_data = validation_data.batch(num_validation_samples)\n",
    "\n",
    "# batch the test data\n",
    "test_data = test_data.batch(num_test_samples)\n",
    "\n",
    "\n",
    "# takes next batch (it is the only batch)\n",
    "# because as_supervized=True, we've got a 2-tuple structure\n",
    "validation_inputs, validation_targets = next(iter(validation_data))"
   ]
  },
  {
   "cell_type": "code",
   "execution_count": 13,
   "id": "99475650-7597-48d3-8867-c8b0dda04735",
   "metadata": {},
   "outputs": [],
   "source": [
    "#Clears the memory of all the variables left from previous runs\n",
    "tf.compat.v1.get_default_graph\n",
    "#Now we outline the model\n",
    "input_size = 784\n",
    "output_size = 10\n",
    "hidden_layer_size = 50\n",
    "\n",
    "#Defining how the model will look like\n",
    "model = tf.keras.Sequential([\n",
    "    \n",
    "    # the first layer (the input layer)\n",
    "    # each observation is 28x28x1 pixels, therefore it is a tensor of rank 3\n",
    "    # since we don't know CNNs yet, we don't know how to feed such input into our net, so we must flatten the images\n",
    "    # there is a convenient method 'Flatten' that simply takes our 28x28x1 tensor and orders it into a (None,) \n",
    "    # or (28x28x1,) = (784,) vector\n",
    "    # this allows us to actually create a feed forward neural network\n",
    "    tf.keras.layers.Flatten(input_shape=(28, 28, 1)), # input layer\n",
    "    \n",
    "    # tf.keras.layers.Dense is basically implementing: output = activation(dot(input, weight) + bias)\n",
    "    # it takes several arguments, but the most important ones for us are the hidden_layer_size and the activation function\n",
    "    tf.keras.layers.Dense(hidden_layer_size, activation='relu'), # 1st hidden layer\n",
    "    tf.keras.layers.Dense(hidden_layer_size, activation='relu'), # 2nd hidden layer\n",
    "    \n",
    "    # the final layer is no different, we just make sure to activate it with softmax\n",
    "    tf.keras.layers.Dense(output_size, activation='softmax') # output layer\n",
    "])"
   ]
  },
  {
   "cell_type": "code",
   "execution_count": 17,
   "id": "48e69dd0-2fc8-46b1-88c1-026c3d09e615",
   "metadata": {},
   "outputs": [],
   "source": [
    "#We now define the optimizer we'd like to use, \n",
    "# the loss function, \n",
    "# and the metrics we are interested in obtaining at each iteration\n",
    "optimizer = tf.keras.optimizers.Adam(learning_rate=0.001)\n",
    "model.compile(optimizer, loss='sparse_categorical_crossentropy', metrics=['accuracy'])"
   ]
  },
  {
   "cell_type": "code",
   "execution_count": 19,
   "id": "9b38e528-e1ac-4399-831f-3081d43c9242",
   "metadata": {},
   "outputs": [
    {
     "name": "stdout",
     "output_type": "stream",
     "text": [
      "Epoch 1/5\n",
      "540/540 - 2s - loss: 0.0859 - accuracy: 0.9741 - val_loss: 0.0818 - val_accuracy: 0.9752 - 2s/epoch - 3ms/step\n",
      "Epoch 2/5\n",
      "540/540 - 1s - loss: 0.0724 - accuracy: 0.9781 - val_loss: 0.0780 - val_accuracy: 0.9762 - 1s/epoch - 3ms/step\n",
      "Epoch 3/5\n",
      "540/540 - 1s - loss: 0.0665 - accuracy: 0.9796 - val_loss: 0.0716 - val_accuracy: 0.9797 - 1s/epoch - 3ms/step\n",
      "Epoch 4/5\n",
      "540/540 - 2s - loss: 0.0608 - accuracy: 0.9820 - val_loss: 0.0658 - val_accuracy: 0.9790 - 2s/epoch - 3ms/step\n",
      "Epoch 5/5\n",
      "540/540 - 1s - loss: 0.0542 - accuracy: 0.9837 - val_loss: 0.0647 - val_accuracy: 0.9807 - 1s/epoch - 3ms/step\n"
     ]
    },
    {
     "data": {
      "text/plain": [
       "<keras.src.callbacks.History at 0x28b25b943d0>"
      ]
     },
     "execution_count": 19,
     "metadata": {},
     "output_type": "execute_result"
    }
   ],
   "source": [
    "tf.compat.v1.ragged.RaggedTensorValue\n",
    "#Now we train,\n",
    "#determine the maximum number of epochs\n",
    "NUM_EPOCHS = 5\n",
    "\n",
    "# we fit the model, specifying the\n",
    "# training data\n",
    "# the total number of epochs\n",
    "# and the validation data we just created ourselves in the format: (inputs,targets)\n",
    "model.fit(train_data, epochs=NUM_EPOCHS, validation_data=(validation_inputs, validation_targets), verbose =2)"
   ]
  },
  {
   "cell_type": "code",
   "execution_count": 20,
   "id": "c942029d-de11-4e0f-acd3-50bd416ab402",
   "metadata": {},
   "outputs": [
    {
     "name": "stdout",
     "output_type": "stream",
     "text": [
      "1/1 [==============================] - 0s 469ms/step - loss: 0.1091 - accuracy: 0.9671\n"
     ]
    }
   ],
   "source": [
    "#Now we test the Data, we only test if validation results are satisfactory and val_accuracy is quite fine\n",
    "test_loss, test_accuracy = model.evaluate(test_data)"
   ]
  },
  {
   "cell_type": "code",
   "execution_count": 21,
   "id": "555dcbbb-d284-4074-a9d0-71138951b042",
   "metadata": {},
   "outputs": [
    {
     "name": "stdout",
     "output_type": "stream",
     "text": [
      "Test loss: 0.11. Test accuracy: 96.71%\n"
     ]
    }
   ],
   "source": [
    "print('Test loss: {0:.2f}. Test accuracy: {1:.2f}%'.format(test_loss, test_accuracy*100.))"
   ]
  },
  {
   "cell_type": "code",
   "execution_count": null,
   "id": "aa5b42f0-3f77-4c6c-a1b5-da201b683a11",
   "metadata": {},
   "outputs": [],
   "source": []
  }
 ],
 "metadata": {
  "kernelspec": {
   "display_name": "Python 3 (ipykernel)",
   "language": "python",
   "name": "python3"
  },
  "language_info": {
   "codemirror_mode": {
    "name": "ipython",
    "version": 3
   },
   "file_extension": ".py",
   "mimetype": "text/x-python",
   "name": "python",
   "nbconvert_exporter": "python",
   "pygments_lexer": "ipython3",
   "version": "3.11.7"
  }
 },
 "nbformat": 4,
 "nbformat_minor": 5
}
